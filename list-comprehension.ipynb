{
 "metadata": {
  "language_info": {
   "codemirror_mode": {
    "name": "ipython",
    "version": 3
   },
   "file_extension": ".py",
   "mimetype": "text/x-python",
   "name": "python",
   "nbconvert_exporter": "python",
   "pygments_lexer": "ipython3",
   "version": "3.9.0-final"
  },
  "orig_nbformat": 2,
  "kernelspec": {
   "name": "python3",
   "display_name": "Python 3"
  }
 },
 "nbformat": 4,
 "nbformat_minor": 2,
 "cells": [
  {
   "source": [
    "# List Comprehension"
   ],
   "cell_type": "markdown",
   "metadata": {}
  },
  {
   "cell_type": "code",
   "execution_count": 14,
   "metadata": {},
   "outputs": [
    {
     "output_type": "stream",
     "name": "stdout",
     "text": [
      "After initialization, the list is:\n ['Killjoy', 'Sova', 'Cypher']\n"
     ]
    }
   ],
   "source": [
    "# Start with normal lists and then make the equivalent with list comprehension.\n",
    "agents = ['Killjoy', 'Sova', 'Cypher']\n",
    "print('After initialization, the list is:\\n {}'.format(agents))\n"
   ]
  },
  {
   "cell_type": "code",
   "execution_count": 15,
   "metadata": {},
   "outputs": [
    {
     "output_type": "stream",
     "name": "stdout",
     "text": [
      "Now the list looks like this: \n ['Killjoy', 'Sova', 'Cypher', 'Sage']\n"
     ]
    }
   ],
   "source": [
    "# Add one item to the list.\n",
    "agents.append('Sage')\n",
    "print('Now the list looks like this: \\n {}'.format(agents))"
   ]
  },
  {
   "cell_type": "code",
   "execution_count": 16,
   "metadata": {},
   "outputs": [
    {
     "output_type": "stream",
     "name": "stdout",
     "text": [
      "And now here we are:\n['Killjoy', 'Sova', 'Cypher', 'Sage', 'Brimstone', 'Breach']\n"
     ]
    }
   ],
   "source": [
    "# If we want to add a list to the list, we use extend instead of append.\n",
    "agents.extend(['Brimstone', 'Breach'])\n",
    "print('And now here we are:\\n{}'.format(agents))"
   ]
  },
  {
   "cell_type": "code",
   "execution_count": null,
   "metadata": {},
   "outputs": [],
   "source": []
  }
 ]
}