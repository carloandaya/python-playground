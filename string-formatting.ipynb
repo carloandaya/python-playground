{
 "metadata": {
  "language_info": {
   "codemirror_mode": {
    "name": "ipython",
    "version": 3
   },
   "file_extension": ".py",
   "mimetype": "text/x-python",
   "name": "python",
   "nbconvert_exporter": "python",
   "pygments_lexer": "ipython3",
   "version": "3.9.0-final"
  },
  "orig_nbformat": 2,
  "kernelspec": {
   "name": "python3",
   "display_name": "Python 3.9.0 64-bit ('.venv')",
   "metadata": {
    "interpreter": {
     "hash": "bbec0386470c0bea6cff8a7ee9163515bdd21d30228c9b568d79689bfc382c19"
    }
   }
  }
 },
 "nbformat": 4,
 "nbformat_minor": 2,
 "cells": [
  {
   "source": [
    "# Python String Formatting\n",
    "Playing with string formatting syntax."
   ],
   "cell_type": "markdown",
   "metadata": {}
  },
  {
   "cell_type": "code",
   "execution_count": 1,
   "metadata": {},
   "outputs": [
    {
     "output_type": "stream",
     "name": "stdout",
     "text": [
      "Hello, world!\n"
     ]
    }
   ],
   "source": [
    "my_string = \"Hello, world!\"\n",
    "print(my_string)"
   ]
  },
  {
   "source": [
    "Using placeholders in string formatting."
   ],
   "cell_type": "markdown",
   "metadata": {}
  },
  {
   "cell_type": "code",
   "execution_count": 2,
   "metadata": {},
   "outputs": [
    {
     "output_type": "stream",
     "name": "stdout",
     "text": [
      "The best players to use in Valorant are Killjoy and Sova.\n"
     ]
    }
   ],
   "source": [
    "thing1 = \"Killjoy\"\n",
    "thing2 = \"Sova\"\n",
    "print(\"The best players to use in Valorant are {} and {}.\".format(thing1, thing2))"
   ]
  },
  {
   "source": [
    "The example above uses the order in which the variables are listed. We can put numbers in the curly braces to indicate where the variables go."
   ],
   "cell_type": "markdown",
   "metadata": {}
  },
  {
   "cell_type": "code",
   "execution_count": 3,
   "metadata": {},
   "outputs": [
    {
     "output_type": "stream",
     "name": "stdout",
     "text": [
      "The best players to use in Valorant are Sova and Killjoy.\n"
     ]
    }
   ],
   "source": [
    "print(\"The best players to use in Valorant are {1} and {0}.\".format(thing1, thing2))"
   ]
  },
  {
   "source": [
    "Because we're going to encounter old style string formatting, it's best to get familiar with them. In this first example, we indicate a string."
   ],
   "cell_type": "markdown",
   "metadata": {}
  },
  {
   "cell_type": "code",
   "execution_count": 6,
   "metadata": {},
   "outputs": [
    {
     "output_type": "stream",
     "name": "stdout",
     "text": [
      "I am hungry.\n"
     ]
    }
   ],
   "source": [
    "mood = \"hungry\"\n",
    "print(\"I am %s.\" % mood)"
   ]
  },
  {
   "source": [
    "There is a way to indicate which variable goes where, similar to the new style of string formatting. It takes a dictionary type thing."
   ],
   "cell_type": "markdown",
   "metadata": {}
  },
  {
   "cell_type": "code",
   "execution_count": 7,
   "metadata": {},
   "outputs": [
    {
     "output_type": "stream",
     "name": "stdout",
     "text": [
      "Give me your poor, your tired, your huddled masses yearning to breathe free...\n"
     ]
    }
   ],
   "source": [
    "qual1 = \"poor\"\n",
    "qual2 = \"tired\"\n",
    "qual3 = \"huddled masses\"\n",
    "print(\"Give me your %(p)s, your %(t)s, your %(hm)s yearning to breathe free...\" % {\"p\": qual1, \"t\": qual2, \"hm\": qual3})"
   ]
  },
  {
   "source": [
    "Just incorporating an input with the examples."
   ],
   "cell_type": "markdown",
   "metadata": {}
  },
  {
   "cell_type": "code",
   "execution_count": 9,
   "metadata": {},
   "outputs": [
    {
     "output_type": "stream",
     "name": "stdout",
     "text": [
      "Hello carlo!\n"
     ]
    }
   ],
   "source": [
    "name = input(\"what is your name?\")\n",
    "print(\"Hello %s!\" % name)\n"
   ]
  },
  {
   "source": [
    "Inserting numbers instead of strings. "
   ],
   "cell_type": "markdown",
   "metadata": {}
  },
  {
   "cell_type": "code",
   "execution_count": 12,
   "metadata": {},
   "outputs": [
    {
     "output_type": "stream",
     "name": "stdout",
     "text": [
      "I don't want to live to be 100.0.\n"
     ]
    }
   ],
   "source": [
    "my_number = 100.0\n",
    "print(\"I don't want to live to be %s.\" % my_number)"
   ]
  },
  {
   "source": [
    "Can I use the %d placeholder with a string? "
   ],
   "cell_type": "markdown",
   "metadata": {}
  },
  {
   "cell_type": "code",
   "execution_count": 13,
   "metadata": {},
   "outputs": [
    {
     "output_type": "error",
     "ename": "TypeError",
     "evalue": "%d format: a number is required, not str",
     "traceback": [
      "\u001b[1;31m---------------------------------------------------------------------------\u001b[0m",
      "\u001b[1;31mTypeError\u001b[0m                                 Traceback (most recent call last)",
      "\u001b[1;32m<ipython-input-13-32f474df4c74>\u001b[0m in \u001b[0;36m<module>\u001b[1;34m\u001b[0m\n\u001b[0;32m      1\u001b[0m \u001b[0mmy_string\u001b[0m \u001b[1;33m=\u001b[0m \u001b[1;34m\"carlo\"\u001b[0m\u001b[1;33m\u001b[0m\u001b[1;33m\u001b[0m\u001b[0m\n\u001b[1;32m----> 2\u001b[1;33m \u001b[0mprint\u001b[0m\u001b[1;33m(\u001b[0m\u001b[1;34m\"hello %d\"\u001b[0m \u001b[1;33m%\u001b[0m \u001b[0mmy_string\u001b[0m\u001b[1;33m)\u001b[0m\u001b[1;33m\u001b[0m\u001b[1;33m\u001b[0m\u001b[0m\n\u001b[0m",
      "\u001b[1;31mTypeError\u001b[0m: %d format: a number is required, not str"
     ]
    }
   ],
   "source": [
    "my_string = \"carlo\"\n",
    "print(\"hello %d\" % my_string)"
   ]
  },
  {
   "source": [
    "One of the many cool things about Python is how it deals with getting parts of a string. "
   ],
   "cell_type": "markdown",
   "metadata": {}
  },
  {
   "cell_type": "code",
   "execution_count": 6,
   "metadata": {},
   "outputs": [
    {
     "output_type": "stream",
     "name": "stdout",
     "text": [
      "The first three letters of apple are 'app'.\n"
     ]
    }
   ],
   "source": [
    "word = \"apple\"\n",
    "partial = word[:3]\n",
    "print(\"The first three letters of apple are '{}'.\".format(word[:3]))"
   ]
  },
  {
   "source": [
    "The last topic to experiment with is raw strings. It ignores escape characters and just outputs the string as is. Most useful for URLs and code samples."
   ],
   "cell_type": "markdown",
   "metadata": {}
  },
  {
   "cell_type": "code",
   "execution_count": 10,
   "metadata": {},
   "outputs": [
    {
     "output_type": "stream",
     "name": "stdout",
     "text": [
      "Hi\\nHello\nHi\nHello\n"
     ]
    }
   ],
   "source": [
    "raw_string = r'Hi\\nHello'\n",
    "not_raw = 'Hi\\nHello'\n",
    "print(raw_string)\n",
    "print(not_raw)\n"
   ]
  }
 ]
}