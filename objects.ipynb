{
 "metadata": {
  "language_info": {
   "codemirror_mode": {
    "name": "ipython",
    "version": 3
   },
   "file_extension": ".py",
   "mimetype": "text/x-python",
   "name": "python",
   "nbconvert_exporter": "python",
   "pygments_lexer": "ipython3",
   "version": "3.8.3-final"
  },
  "orig_nbformat": 2,
  "kernelspec": {
   "name": "python3",
   "display_name": "Python 3"
  }
 },
 "nbformat": 4,
 "nbformat_minor": 2,
 "cells": [
  {
   "source": [
    "# Objects"
   ],
   "cell_type": "markdown",
   "metadata": {}
  },
  {
   "cell_type": "code",
   "execution_count": 7,
   "metadata": {},
   "outputs": [],
   "source": [
    "from abc import ABC, abstractmethod\n",
    "\n",
    "class Equipment(ABC): \n",
    "    def __init__(self, serial_number, manufacturer, model): \n",
    "        self.serial_number = serial_number\n",
    "        self.manufacturer = manufacturer\n",
    "        self.model = model\n",
    "        super().__init__()\n",
    "\n",
    "    @abstractmethod\n",
    "    def __repr__(self): \n",
    "        pass"
   ]
  },
  {
   "cell_type": "code",
   "execution_count": 8,
   "metadata": {},
   "outputs": [
    {
     "output_type": "error",
     "ename": "TypeError",
     "evalue": "Can't instantiate abstract class Equipment with abstract methods __repr__",
     "traceback": [
      "\u001b[1;31m---------------------------------------------------------------------------\u001b[0m",
      "\u001b[1;31mTypeError\u001b[0m                                 Traceback (most recent call last)",
      "\u001b[1;32m<ipython-input-8-cc62e151dda5>\u001b[0m in \u001b[0;36m<module>\u001b[1;34m\u001b[0m\n\u001b[1;32m----> 1\u001b[1;33m \u001b[0mmy_equipment\u001b[0m \u001b[1;33m=\u001b[0m \u001b[0mEquipment\u001b[0m\u001b[1;33m(\u001b[0m\u001b[0mserial_number\u001b[0m\u001b[1;33m=\u001b[0m\u001b[1;34m'1XJY56'\u001b[0m\u001b[1;33m,\u001b[0m \u001b[0mmanufacturer\u001b[0m\u001b[1;33m=\u001b[0m\u001b[1;34m'Nikon'\u001b[0m\u001b[1;33m,\u001b[0m \u001b[0mmodel\u001b[0m\u001b[1;33m=\u001b[0m\u001b[1;34m'F5'\u001b[0m\u001b[1;33m)\u001b[0m\u001b[1;33m\u001b[0m\u001b[1;33m\u001b[0m\u001b[0m\n\u001b[0m",
      "\u001b[1;31mTypeError\u001b[0m: Can't instantiate abstract class Equipment with abstract methods __repr__"
     ]
    }
   ],
   "source": [
    "my_equipment = Equipment(serial_number='1XJY56', manufacturer='Nikon', model='F5')"
   ]
  },
  {
   "cell_type": "code",
   "execution_count": 33,
   "metadata": {},
   "outputs": [],
   "source": [
    "class Camera(Equipment): \n",
    "    def __repr__(self):\n",
    "        return repr('I am a camera with serial number ' + self.serial_number)\n",
    "\n",
    "class Lens(Equipment):\n",
    "    def __init__(self, serial_number, manufacturer, model, focal_length, is_prime): \n",
    "        super().__init__(serial_number, manufacturer, model)\n",
    "        self.focal_length = focal_length\n",
    "        self.is_prime = is_prime\n",
    "\n",
    "    def __repr__(self): \n",
    "        return repr('I am a camera lens with serial number ' + self.serial_number)\n",
    "\n",
    "class Computer(Equipment):\n",
    "    def compute(self): \n",
    "        pass\n"
   ]
  },
  {
   "cell_type": "code",
   "execution_count": 34,
   "metadata": {},
   "outputs": [
    {
     "output_type": "stream",
     "name": "stdout",
     "text": [
      "'I am a camera with serial number 1XJY56'\n"
     ]
    }
   ],
   "source": [
    "my_camera = Camera(serial_number='1XJY56', manufacturer='Nikon', model='F5')\n",
    "print(my_camera)"
   ]
  },
  {
   "cell_type": "code",
   "execution_count": 36,
   "metadata": {},
   "outputs": [
    {
     "output_type": "stream",
     "name": "stdout",
     "text": [
      "24mm\n'I am a camera lens with serial number 73827XCX'\n"
     ]
    }
   ],
   "source": [
    "my_lens = Lens(serial_number='73827XCX', manufacturer='Nikon', model='E Series', focal_length='24mm', is_prime=True)\n",
    "print(my_lens.focal_length)\n",
    "print(my_lens)"
   ]
  },
  {
   "cell_type": "code",
   "execution_count": 30,
   "metadata": {},
   "outputs": [
    {
     "output_type": "execute_result",
     "data": {
      "text/plain": [
       "True"
      ]
     },
     "metadata": {},
     "execution_count": 30
    }
   ],
   "source": [
    "issubclass(Lens, Equipment)"
   ]
  },
  {
   "cell_type": "code",
   "execution_count": 32,
   "metadata": {},
   "outputs": [
    {
     "output_type": "execute_result",
     "data": {
      "text/plain": [
       "True"
      ]
     },
     "metadata": {},
     "execution_count": 32
    }
   ],
   "source": [
    "issubclass(Equipment, object)"
   ]
  }
 ]
}